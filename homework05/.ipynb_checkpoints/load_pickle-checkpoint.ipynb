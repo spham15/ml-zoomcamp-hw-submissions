{
 "cells": [
  {
   "cell_type": "code",
   "execution_count": 10,
   "id": "7666fb2a",
   "metadata": {},
   "outputs": [],
   "source": [
    "import pickle"
   ]
  },
  {
   "cell_type": "code",
   "execution_count": 11,
   "id": "60cdb1df",
   "metadata": {},
   "outputs": [],
   "source": [
    "model_file = 'model1.bin'\n",
    "dv_file = 'dv.bin'"
   ]
  },
  {
   "cell_type": "code",
   "execution_count": 12,
   "id": "d55d8ceb",
   "metadata": {},
   "outputs": [],
   "source": [
    "with open(model_file, 'rb') as f_in, open(dv_file, 'rb') as f_in2:\n",
    "    model = pickle.load(f_in)\n",
    "    dv = pickle.load(f_in2)"
   ]
  },
  {
   "cell_type": "code",
   "execution_count": 13,
   "id": "cdc52950",
   "metadata": {},
   "outputs": [
    {
     "data": {
      "text/plain": [
       "(DictVectorizer(sparse=False), LogisticRegression())"
      ]
     },
     "execution_count": 13,
     "metadata": {},
     "output_type": "execute_result"
    }
   ],
   "source": [
    "dv, model"
   ]
  },
  {
   "cell_type": "code",
   "execution_count": 14,
   "id": "2970889b",
   "metadata": {},
   "outputs": [],
   "source": [
    "customer = {\"job\": \"retired\", \"duration\": 445, \"poutcome\": \"success\"}"
   ]
  },
  {
   "cell_type": "code",
   "execution_count": 15,
   "id": "6b5c83ec",
   "metadata": {},
   "outputs": [
    {
     "name": "stdout",
     "output_type": "stream",
     "text": [
      "input: {'job': 'retired', 'duration': 445, 'poutcome': 'success'}\n",
      "output: 0.9019309332297606\n"
     ]
    }
   ],
   "source": [
    "X = dv.transform([customer])\n",
    "y_pred = model.predict_proba(X)[0, 1]\n",
    "print('input:', customer)\n",
    "print('output:', y_pred)"
   ]
  }
 ],
 "metadata": {
  "kernelspec": {
   "display_name": "Python 3",
   "language": "python",
   "name": "python3"
  },
  "language_info": {
   "codemirror_mode": {
    "name": "ipython",
    "version": 3
   },
   "file_extension": ".py",
   "mimetype": "text/x-python",
   "name": "python",
   "nbconvert_exporter": "python",
   "pygments_lexer": "ipython3",
   "version": "3.8.8"
  }
 },
 "nbformat": 4,
 "nbformat_minor": 5
}
